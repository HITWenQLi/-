{
 "cells": [
  {
   "cell_type": "markdown",
   "metadata": {},
   "source": [
    "# 数据扩充_4（迁移学习原理+代码）"
   ]
  },
  {
   "cell_type": "markdown",
   "metadata": {},
   "source": [
    "## 一、简单介绍\n",
    "根据斯坦福大学吴恩达教授所言，迁移学习有可能是机器学习的下一个驱动力量。迁移学习是一种机器学习技术，允许使用一个早已训练好的卷积神经网络在特定的数据集上或对该模型进行变换，用在不同的数据集上。至于重新利用一个卷积神经网络的原因可能是重新训练的时间太长了。例如，训练ResNet18模型20轮大概需要三天，在 4 NVIDIA K80 GPU下；训练ResNet152，120轮，大概需要4个月，在 4 NVIDIA K80 GPU下。"
   ]
  },
  {
   "cell_type": "markdown",
   "metadata": {},
   "source": [
    "## 二、迁移学习策略"
   ]
  },
  {
   "cell_type": "markdown",
   "metadata": {},
   "source": [
    "迁移学习一般有两个策略，这两个策略在定义上目前好像还没有非常明显的分界。Finetuning策略，包含两个部分，一部分是在基础数据集上的预训练模型，另外一部分是在目标数据集上的神经网络模型部分，模型冻结和训练。   \n",
    "这包含两种方法，其一，冻结最后一层，分离其他层；其二，冻结前几层，分离后面的部分（因为有证据表明，卷积神经网络的前几层包含的是图像的纹理特征和颜色斑点特征）  \n",
    "这次的实验包含的是两个极端例子，训练整个模型和只训练最后一层。  "
   ]
  },
  {
   "cell_type": "markdown",
   "metadata": {},
   "source": [
    "ImageNet数据集，包含120万张图像，1000个类，这些被分成了两大部分，动物和物品，每个类大概包含1000张图片，大部分卷积神经网络的模型都是在ImageNet上进行预训练的。"
   ]
  },
  {
   "cell_type": "markdown",
   "metadata": {},
   "source": [
    "迁移学习的第一步是在原模型的基础上，添加最后一个全连接层，节点个数是包含种类数。接下来是Frozen and Train阶段，可以只训练最后一层或者者微调所有层。"
   ]
  },
  {
   "cell_type": "markdown",
   "metadata": {},
   "source": [
    "## 三、什么时候用迁移学习"
   ]
  },
  {
   "cell_type": "markdown",
   "metadata": {},
   "source": [
    "很难知道什么时候微调整个网络或者只调节最后一层，在(Yosinsky et. al., 2014)中，作者解决了在ImageNet数据集的上下文中量化特定CNN层的通用或特定程度的问题。他们发现，由于这些层的协同适应，中间层的网络分裂会对迁移性产生负面影响。他们报告说，随着任务之间距离的增加，可传递性差距增大。最后，他们发现，与从零权值训练网络相比，用传递权值初始化网络可以提高泛化性能。"
   ]
  },
  {
   "cell_type": "markdown",
   "metadata": {},
   "source": [
    "1、割裂中间层会使性能变差；  \n",
    "2、随着目标任务和基础任务的分布距离的增加，可传递性会变差；  \n",
    "3、与从0权值训练的网络相比，用迁移的权值初始化网络可以提高泛化性能。  \n",
    "根据tutorial of Karpathy，列出了一些适合应用迁移学习的场景：  \n",
    "1、小和相似的图像数据：当目标数据集与基础数据集相比较小且其图像差异很大时，建议冻结并训练最后一层。  \n",
    "2、大而相似的图像：当数据集很大并且有相似的图像时，推荐使用finetune。  \n",
    "3、小而不同的图像：在这种情况下，建议冻结并训练最后一层或最后一些层。  \n",
    "4、大而不同的图像：在这种情况下，建议使用finetune。  "
   ]
  },
  {
   "cell_type": "markdown",
   "metadata": {},
   "source": [
    "## 四、具体步骤\n",
    "### 1、数据集及相关操作：\n",
    "我们将使用不同的数据集来测试转移学习例程。我们将它们转换成灰度来分析网络在这个颜色空间中的行为。我们还必须按照pytorch的结构将数据集文件夹分为train和validation。"
   ]
  },
  {
   "cell_type": "markdown",
   "metadata": {},
   "source": []
  },
  {
   "cell_type": "code",
   "execution_count": 1,
   "metadata": {},
   "outputs": [
    {
     "ename": "NameError",
     "evalue": "name 'os' is not defined",
     "output_type": "error",
     "traceback": [
      "\u001b[1;31m---------------------------------------------------------------------------\u001b[0m",
      "\u001b[1;31mNameError\u001b[0m                                 Traceback (most recent call last)",
      "\u001b[1;32m<ipython-input-1-a2d2236358cc>\u001b[0m in \u001b[0;36m<module>\u001b[1;34m\u001b[0m\n\u001b[0;32m      1\u001b[0m \u001b[0mDATA_ROOT\u001b[0m \u001b[1;33m=\u001b[0m \u001b[1;34m'/datadrive'\u001b[0m\u001b[1;33m\u001b[0m\u001b[1;33m\u001b[0m\u001b[0m\n\u001b[0;32m      2\u001b[0m \u001b[1;33m\u001b[0m\u001b[0m\n\u001b[1;32m----> 3\u001b[1;33m \u001b[0mHYMENOPTERA_ROOT\u001b[0m \u001b[1;33m=\u001b[0m \u001b[0mos\u001b[0m\u001b[1;33m.\u001b[0m\u001b[0mpath\u001b[0m\u001b[1;33m.\u001b[0m\u001b[0mjoin\u001b[0m\u001b[1;33m(\u001b[0m\u001b[0mDATA_ROOT\u001b[0m\u001b[1;33m,\u001b[0m \u001b[1;34m'hymenoptera_data'\u001b[0m\u001b[1;33m)\u001b[0m\u001b[1;33m\u001b[0m\u001b[1;33m\u001b[0m\u001b[0m\n\u001b[0m\u001b[0;32m      4\u001b[0m \u001b[0mHYMENOPTERA_GRAY_ROOT\u001b[0m \u001b[1;33m=\u001b[0m \u001b[0mos\u001b[0m\u001b[1;33m.\u001b[0m\u001b[0mpath\u001b[0m\u001b[1;33m.\u001b[0m\u001b[0mjoin\u001b[0m\u001b[1;33m(\u001b[0m\u001b[0mDATA_ROOT\u001b[0m\u001b[1;33m,\u001b[0m \u001b[1;34m'hymenoptera_gray'\u001b[0m\u001b[1;33m)\u001b[0m\u001b[1;33m\u001b[0m\u001b[1;33m\u001b[0m\u001b[0m\n\u001b[0;32m      5\u001b[0m \u001b[1;33m\u001b[0m\u001b[0m\n",
      "\u001b[1;31mNameError\u001b[0m: name 'os' is not defined"
     ]
    }
   ],
   "source": []
  },
  {
   "cell_type": "code",
   "execution_count": null,
   "metadata": {},
   "outputs": [],
   "source": []
  }
 ],
 "metadata": {
  "kernelspec": {
   "display_name": "Python 3",
   "language": "python",
   "name": "python3"
  },
  "language_info": {
   "codemirror_mode": {
    "name": "ipython",
    "version": 3
   },
   "file_extension": ".py",
   "mimetype": "text/x-python",
   "name": "python",
   "nbconvert_exporter": "python",
   "pygments_lexer": "ipython3",
   "version": "3.7.4"
  }
 },
 "nbformat": 4,
 "nbformat_minor": 2
}
